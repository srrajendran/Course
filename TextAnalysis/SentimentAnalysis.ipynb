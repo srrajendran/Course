{
 "cells": [
  {
   "cell_type": "markdown",
   "metadata": {},
   "source": []
  },
  {
   "cell_type": "code",
   "execution_count": 1,
   "metadata": {},
   "outputs": [],
   "source": [
    "\"\"\"Build a sentiment analysis / polarity model\n",
    "\n",
    "Sentiment analysis can be casted as a binary text classification problem,\n",
    "that is fitting a linear classifier on features extracted from the text\n",
    "of the user messages so as to guess wether the opinion of the author is\n",
    "positive or negative.\n",
    "\n",
    "In this examples we will use a movie review dataset.\n",
    "\n",
    "\"\"\"\n",
    "# Author: Olivier Grisel <olivier.grisel@ensta.org>\n",
    "# License: Simplified BSD\n",
    "# We have modified the code base, adjusted the imports, to make the skeleton work as needed.\n",
    "import sys\n",
    "from sklearn.feature_extraction.text import TfidfVectorizer\n",
    "from sklearn.svm import LinearSVC\n",
    "from sklearn.pipeline import Pipeline\n",
    "from sklearn.grid_search import GridSearchCV\n",
    "from sklearn.datasets import load_files\n",
    "from sklearn.cross_validation import train_test_split\n",
    "from sklearn import metrics"
   ]
  },
  {
   "cell_type": "code",
   "execution_count": 3,
   "metadata": {},
   "outputs": [
    {
     "name": "stdout",
     "output_type": "stream",
     "text": [
      "n_samples: 2000\n"
     ]
    }
   ],
   "source": [
    "# the training data folder must be passed as first argument\n",
    "movie_reviews_data_folder = r\"data/txt_sentoken/\"\n",
    "dataset = load_files(movie_reviews_data_folder, shuffle=False)\n",
    "print(\"n_samples: %d\" % len(dataset.data))"
   ]
  },
  {
   "cell_type": "code",
   "execution_count": 5,
   "metadata": {
    "collapsed": true
   },
   "outputs": [],
   "source": [
    "# split the dataset in training and test set:\n",
    "docs_train, docs_test, y_train, y_test = train_test_split(dataset.data, dataset.target, test_size=0.25, random_state=None)"
   ]
  },
  {
   "cell_type": "code",
   "execution_count": 10,
   "metadata": {
    "collapsed": true
   },
   "outputs": [],
   "source": [
    "def plot_confusion_matrix(cm, title='Confusion matrix', cmap=plt.cm.Blues):\n",
    "    plt.imshow(cm, interpolation='nearest', cmap=cmap)\n",
    "    plt.title(title)\n",
    "    plt.colorbar()\n",
    "    tick_marks = np.arange(len(dataset.target_names))\n",
    "    plt.xticks(tick_marks, dataset.target_names, rotation=45)\n",
    "    plt.yticks(tick_marks, dataset.target_names)\n",
    "    plt.tight_layout()\n",
    "    plt.ylabel('True label')\n",
    "    plt.xlabel('Predicted label')"
   ]
  },
  {
   "cell_type": "markdown",
   "metadata": {},
   "source": [
    "* Based upon Problem 2 pick some parameters for TfidfVectorizer\n",
    "    * \"fit\" your TfidfVectorizer using docs_train\n",
    "    * Compute \"Xtrain\", a Tf-idf-weighted document-term matrix using the transform function on docs_train\n",
    "    * Compute \"Xtest\", a Tf-idf-weighted document-term matrix using the transform function on docs_test\n",
    "    * Note, be sure to use the same Tf-idf-weighted class (**\"fit\" using docs_train**) to transform **both** docs_test and docs_train\n",
    "* Examine two classifiers provided by scikit-learn \n",
    "    * LinearSVC\n",
    "    * KNeighborsClassifier\n",
    "    * Try a number of different parameter settings for each and judge your performance using a confusion matrix (see Problem 1 for an example).\n",
    "* Does one classifier, or one set of parameters work better?\n",
    "    * Why do you think it might be working better?\n",
    "* For a particular choice of parameters and classifier, look at 2 examples where the prediction was incorrect.\n",
    "    * Can you conjecture on why the classifier made a mistake for this prediction?"
   ]
  },
  {
   "cell_type": "code",
   "execution_count": 9,
   "metadata": {},
   "outputs": [
    {
     "name": "stdout",
     "output_type": "stream",
     "text": [
      "Extracting features from the dataset using a sparse vectorizer\n",
      "n_samples: 1500, n_features: 35313\n",
      "n_samples: 500, n_features: 35313\n",
      "1500\n",
      "500\n",
      "n_samples: 1500, n_features: 35000\n",
      "n_samples: 500, n_features: 35000\n"
     ]
    }
   ],
   "source": [
    "from sklearn.feature_extraction.text import TfidfVectorizer\n",
    "print(\"Extracting features from the dataset using a sparse vectorizer\")\n",
    "vectorizer = TfidfVectorizer(docs_train)\n",
    "\n",
    "X_train = vectorizer.fit_transform(docs_train)\n",
    "X_test = vectorizer.transform(docs_test)\n",
    "\n",
    "print(\"n_samples: %d, n_features: %d\" % X_train.shape)\n",
    "print(\"n_samples: %d, n_features: %d\" % X_test.shape)\n",
    "print len(docs_train)\n",
    "print len(docs_test)\n",
    "\n",
    "\n",
    "\n",
    "vect = TfidfVectorizer(sublinear_tf=True, max_df=0.5, analyzer='word', \n",
    "           stop_words='english')\n",
    "\n",
    "X_train = vect.fit_transform(docs_train)\n",
    "X_test = vect.transform(docs_test)\n",
    "\n",
    "print(\"n_samples: %d, n_features: %d\" % X_train.shape)\n",
    "print(\"n_samples: %d, n_features: %d\" % X_test.shape)\n",
    "\n",
    "#print(\"n_samples: %d, n_features: %d\" % X_train.shape)"
   ]
  },
  {
   "cell_type": "code",
   "execution_count": 93,
   "metadata": {},
   "outputs": [
    {
     "name": "stdout",
     "output_type": "stream",
     "text": [
      "0.878\n",
      "[[204  33]\n",
      " [ 28 235]]\n"
     ]
    },
    {
     "data": {
      "image/png": "[encoded data removed]",
      "text/plain": [
       "<matplotlib.figure.Figure at 0xd09dcf8>"
      ]
     },
     "metadata": {},
     "output_type": "display_data"
    }
   ],
   "source": [
    "\n",
    "#With Stop Words stay in the model\n",
    "from sklearn import svm\n",
    "import numpy as np\n",
    "import matplotlib.pyplot as plt\n",
    "C = 1\n",
    "text_clf  = Pipeline([\n",
    "       ('vect', TfidfVectorizer(sublinear_tf=True, max_df=0.5, analyzer='word')),\n",
    "       ('clf', LinearSVC(C=C))])\n",
    "text_clf= text_clf.fit(docs_train, y_train)\n",
    "predicted = text_clf.predict(docs_test)\n",
    "np.mean(predicted == y_test) \n",
    "print(np.mean(predicted == y_test))\n",
    "cm = metrics.confusion_matrix(y_test, predicted)\n",
    "print(cm)\n",
    "%matplotlib inline\n",
    "plot_confusion_matrix(cm)\n",
    "\n"
   ]
  },
  {
   "cell_type": "code",
   "execution_count": null,
   "metadata": {
    "collapsed": true
   },
   "outputs": [],
   "source": []
  },
  {
   "cell_type": "code",
   "execution_count": 103,
   "metadata": {},
   "outputs": [
    {
     "name": "stdout",
     "output_type": "stream",
     "text": [
      "0.742\n",
      "[[179  58]\n",
      " [ 71 192]]\n"
     ]
    },
    {
     "data": {
      "image/png": "[encoded data removed]",
      "text/plain": [
       "<matplotlib.figure.Figure at 0x1077f780>"
      ]
     },
     "metadata": {},
     "output_type": "display_data"
    }
   ],
   "source": [
    "\n",
    "from sklearn import svm\n",
    "C = 1000\n",
    "text_clf  = Pipeline([\n",
    "       ('vect', TfidfVectorizer(min_df = 0.1,analyzer='word', sublinear_tf=True, use_idf=True)),\n",
    "       ('clf', LinearSVC(C=C, tol=1e-3))])\n",
    "text_clf= text_clf.fit(docs_train, y_train)\n",
    "predicted = text_clf.predict(docs_test)\n",
    "np.mean(predicted == y_test) \n",
    "print(np.mean(predicted == y_test))\n",
    "cm = metrics.confusion_matrix(y_test, predicted)\n",
    "print(cm)\n",
    "%matplotlib inline\n",
    "plot_confusion_matrix(cm)"
   ]
  },
  {
   "cell_type": "code",
   "execution_count": 67,
   "metadata": {},
   "outputs": [
    {
     "name": "stdout",
     "output_type": "stream",
     "text": [
      "0.872\n",
      "[[204  33]\n",
      " [ 31 232]]\n"
     ]
    },
    {
     "data": {
      "image/png": "[encoded data removed]",
      "text/plain": [
       "<matplotlib.figure.Figure at 0x10ff4ba8>"
      ]
     },
     "metadata": {},
     "output_type": "display_data"
    }
   ],
   "source": [
    "#Without Stop Words stay in the model\n",
    "from sklearn import svm\n",
    "C = 1\n",
    "text_clf  = Pipeline([\n",
    "       ('vect', TfidfVectorizer(sublinear_tf=True, min_df=0.005, analyzer='word', \n",
    "           stop_words='english')),\n",
    "       ('clf', LinearSVC(C=C, tol=1e-3))])\n",
    "text_clf= text_clf.fit(docs_train, y_train)\n",
    "predicted = text_clf.predict(docs_test)\n",
    "np.mean(predicted == y_test) \n",
    "print(np.mean(predicted == y_test))\n",
    "cm = metrics.confusion_matrix(y_test, predicted)\n",
    "print(cm)\n",
    "%matplotlib inline\n",
    "plot_confusion_matrix(cm)"
   ]
  },
  {
   "cell_type": "code",
   "execution_count": 164,
   "metadata": {
    "scrolled": true
   },
   "outputs": [
    {
     "name": "stdout",
     "output_type": "stream",
     "text": [
      "0.714\n",
      "[[146  91]\n",
      " [ 52 211]]\n"
     ]
    },
    {
     "data": {
      "image/png": "[encoded data removed]",
      "text/plain": [
       "<matplotlib.figure.Figure at 0x10f862e8>"
      ]
     },
     "metadata": {},
     "output_type": "display_data"
    }
   ],
   "source": [
    "from sklearn import neighbors\n",
    "\n",
    "vect = TfidfVectorizer(sublinear_tf=True, max_df=0.5, analyzer='word')\n",
    "n_neighbors=5\n",
    "weights='distance'\n",
    "\n",
    "knn=neighbors.KNeighborsClassifier(n_neighbors, weights=weights)\n",
    "X_train = vect.fit_transform(docs_train)\n",
    "X_test = vect.transform(docs_test)\n",
    "\n",
    "knn.fit(X_train, y_train)\n",
    "predicted = knn.predict(X_test)\n",
    "print(np.mean(predicted == y_test))\n",
    "\n",
    "cm = metrics.confusion_matrix(y_test, predicted)\n",
    "print(cm)\n",
    "%matplotlib inline\n",
    "plot_confusion_matrix(cm)\n"
   ]
  },
  {
   "cell_type": "code",
   "execution_count": 162,
   "metadata": {},
   "outputs": [
    {
     "name": "stdout",
     "output_type": "stream",
     "text": [
      "It is negative review shoulde be predicted as 0 instead it is predicted as 1 :\n",
      "1\n",
      "0\n",
      "this is my first review that i post to this newsgroup , and i kind of feel like i have to say something negative about this film . \n",
      "no one else seems to care that it takes certain liberties that should not be taken with a historical story . \n",
      "however , even if one thinks of it as fiction , \" the prince of egypt \" remains shallow . \n",
      "but i'll begin from the beginning . \n",
      "the biggest difference between the original , biblical story and this version is that moses has some semblance of divinity in the bible , whereas the animated version gives the impression of a reluctant hero . \n",
      "maybe it's just me , but if i knew i had god on my side , i'd have a little bit more confidence . \n",
      "there are other differences as well , such as a lack of important female characters and the passing over of the original pharoah's death like it's nothing but a thing . \n",
      "most of all , though , the story's focus has shifted . \n",
      "rather than being a story about father-son , man-ethnicity , man-god , \" the prince of egypt \" is almost solely about the brother-brother relationship between rameses and moses . \n",
      "i was originally excited about this story element until i saw the movie , where it came off as maudlin . \n",
      "rameses and moses squabble like children and then , in the interests of peace , moses saves rameses' butt , even though moses was the one who started it . . . \n",
      " * yawn * i didn't care anymore by the time moses ran off for murdering an overseer ( which , of course , never happened in the original story - moses was exiled ) . \n",
      "but enough about the differences . \n",
      "let's talk about the movie itself . \n",
      "it features a moses who , in the interests of making the character more human , lacks any divinity whatsoever , which isn't convincing at all to anyone who knows who god is . \n",
      "it features a cookie-cutter \" i-wanna-please-dada \" rameses , who at least is given dignity by the voicework of ralph fiennes ( from schindler's list , among other things ) . \n",
      "the film also features an extremely annoying character by way of the \" new-improved \" miriam , voiced by the ever-antsy sandra bullock , even though the most irritating thing about her is her tendency to burst into song for no apparent reason ( here bullock is replaced by a singing voice ) . \n",
      "speaking of which , it contains * very * annoying music . \n",
      "it contains shallow writing . \n",
      "it features extraordinary animation , which is one good thing i can say about this film . \n",
      "most of all , it contains an attempt to commercialize , homogenize , and mass-market a story about a manifestation of god . \n",
      "i am not christian , but i got the impression of blasphemy . \n",
      "the writers and producers took a butcher knife and chop-chopped into the story . \n",
      "\n"
     ]
    }
   ],
   "source": [
    "\n",
    "print (\"It is negative review shoulde be predicted as 0 instead it is predicted as 1 :\")\n",
    "print predicted[497]\n",
    "print y_test[497]\n",
    "print docs_test[497]\n",
    "\n"
   ]
  },
  {
   "cell_type": "code",
   "execution_count": 163,
   "metadata": {},
   "outputs": [
    {
     "name": "stdout",
     "output_type": "stream",
     "text": [
      "It is positive review shoulde be predicted as 1 instead it is predicted as 0 :\n",
      "0\n",
      "1\n",
      "the second jackal-based film to come out in 1997 ( the other starring bruce willis was simply entitled the jackal ) , this one stars aidan quinn and donald sutherland , and is directed by a man who hailed from joblo's own alma matter , concordia university in montreal , canada . \n",
      "the story is based on the exploits of the real terrorist known as the jackal , but does not pretend to be 100% factual . \n",
      "plot : naval officer ramirez ( quinn ) gets called upon by the cia to impersonate the international terrorist known as the jackal , in order to put an end to the actual militant's radical activities . \n",
      "he is chosen for this role because he physically resembles the real terrorist to a tee . \n",
      "ramirez reluctantly agrees to take part in this \" assignment \" , and soon finds himself wrapped up in a true web of international terrorism , intrigue and double-personality syndrome ( which does not sit well with his uninformed wife and kids back in the states . ) \n",
      "critique : great premise is executed with enough style and thrills to keep the piece interesting throughout its close to two-hour runtime . \n",
      "admittedly , i wasn't a huge fan of any of the main actors in this film , and didn't expect much from this movie beforehand , but surprisingly it did have its thrilling moments , as well as a mostly plausible and absorbing story line . \n",
      "the first hour is mostly just a build-up of things to come , and does offer a great characterization of the jackal , but the second hour is the one that really cranks in the cool scenes and a sweet ending . \n",
      "quinn was adequate in both roles as naval officer ramirez and the real jackal , but didn't offer anything extraordinary , in my opinion . \n",
      "sutherland and kingsley seem to be playing the same role that they've played in both of their respective careers of late , but nonetheless , appeared to relish the cold-heartedness of their chosen characters . \n",
      "i didn't like performance put forth from quinn's wife in this flick , but then again , she doesn't show up in most of the film , so that wasn't so bad . \n",
      "i did however enjoy director duguay's interesting style and cinematic vision . \n",
      "this thriller could easily have been boring during many sequences , but duguay always seemed to find something interesting to show the viewer . \n",
      "i thought that was neat . \n",
      "having said that , i didn't think the first hour needed to be as long as it was , and the film did have me tinkering on the bridge of believability when the \" fake \" jackal met with the \" real \" jackal's girlfriend without much retrospection on her part , but all in all , not too many complaints in a movie that could easily be enjoyed by all those who take pleasure in the spy and terrorist thriller genre . \n",
      "little known facts : ben kingsley's real name is krishna banji , he stands 5 \" 8 , was born in scarborough , england , and won the best actor honor in 1982's academy awards presentation for the title role he portrayed in ghandi . \n",
      "many scenes from this film were actually shot in montreal , canada ( joblo's haven of restfulness ) . \n",
      "donald sutherland has fathered actor kiefer sutherland , is canadian , and apparently still owns a place in the north of montreal . \n",
      "\n"
     ]
    }
   ],
   "source": [
    "\n",
    "print (\"It is positive review shoulde be predicted as 1 instead it is predicted as 0 :\")\n",
    "print predicted[492]\n",
    "print y_test[492]\n",
    "print docs_test[492]\n"
   ]
  },
  {
   "cell_type": "code",
   "execution_count": 48,
   "metadata": {},
   "outputs": [],
   "source": []
  }
 ],
 "metadata": {
  "kernelspec": {
   "display_name": "Python 3",
   "language": "python",
   "name": "python3"
  },
  "language_info": {
   "codemirror_mode": {
    "name": "ipython",
    "version": 3
   },
   "file_extension": ".py",
   "mimetype": "text/x-python",
   "name": "python",
   "nbconvert_exporter": "python",
   "pygments_lexer": "ipython3",
   "version": "3.6.5"
  }
 },
 "nbformat": 4,
 "nbformat_minor": 1
}
